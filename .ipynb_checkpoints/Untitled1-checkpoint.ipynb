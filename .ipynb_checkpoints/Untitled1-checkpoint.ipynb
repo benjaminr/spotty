{
 "metadata": {
  "name": "",
  "signature": "sha256:0c2b386b644ed4acc6f0e2d06cb816cf6c7a69ead0b22e26eed4ab99994dbcad"
 },
 "nbformat": 3,
 "nbformat_minor": 0,
 "worksheets": [
  {
   "cells": [
    {
     "cell_type": "code",
     "collapsed": false,
     "input": [
      "import re\n",
      "import itertools\n",
      "\n",
      "a = 'aa.bb.cc 6'\n",
      "b = re.split('\\.| ',a)\n",
      "my_dict = {}\n",
      "\n",
      "\n",
      "for i, j in enumerate(b):\n",
      "    if i < len(b)-1:\n",
      "        if not c:\n",
      "            c = {b[i] : b[i+1]}\n",
      "        else:\n",
      "            c[b[i-1]] = {b[i] : b[i+1]}\n",
      "        print(c)"
     ],
     "language": "python",
     "metadata": {},
     "outputs": [
      {
       "output_type": "stream",
       "stream": "stdout",
       "text": [
        "{0: {'bb': 'cc'}, 'aa': {'bb': 'cc'}, 'bb': {'cc': '6'}, 1: {'cc': '6'}, 'cc': '6', '6': {'aa': 'bb'}, -1: {'aa': 'bb'}}\n",
        "{0: {'bb': 'cc'}, 'aa': {'bb': 'cc'}, 'bb': {'cc': '6'}, 1: {'cc': '6'}, 'cc': '6', '6': {'aa': 'bb'}, -1: {'aa': 'bb'}}\n",
        "{0: {'bb': 'cc'}, 'aa': {'bb': 'cc'}, 'bb': {'cc': '6'}, 1: {'cc': '6'}, 'cc': '6', '6': {'aa': 'bb'}, -1: {'aa': 'bb'}}\n"
       ]
      },
      {
       "ename": "IndexError",
       "evalue": "list index out of range",
       "output_type": "pyerr",
       "traceback": [
        "\u001b[0;31m---------------------------------------------------------------------------\u001b[0m\n\u001b[0;31mIndexError\u001b[0m                                Traceback (most recent call last)",
        "\u001b[0;32m<ipython-input-20-c38f0853f84d>\u001b[0m in \u001b[0;36m<module>\u001b[0;34m()\u001b[0m\n\u001b[1;32m     12\u001b[0m             \u001b[0mc\u001b[0m \u001b[0;34m=\u001b[0m \u001b[0;34m{\u001b[0m\u001b[0mb\u001b[0m\u001b[0;34m[\u001b[0m\u001b[0mi\u001b[0m\u001b[0;34m]\u001b[0m \u001b[0;34m:\u001b[0m \u001b[0mb\u001b[0m\u001b[0;34m[\u001b[0m\u001b[0mi\u001b[0m\u001b[0;34m+\u001b[0m\u001b[0;36m1\u001b[0m\u001b[0;34m]\u001b[0m\u001b[0;34m}\u001b[0m\u001b[0;34m\u001b[0m\u001b[0m\n\u001b[1;32m     13\u001b[0m         \u001b[0;32melse\u001b[0m\u001b[0;34m:\u001b[0m\u001b[0;34m\u001b[0m\u001b[0m\n\u001b[0;32m---> 14\u001b[0;31m             \u001b[0mc\u001b[0m\u001b[0;34m[\u001b[0m\u001b[0mb\u001b[0m\u001b[0;34m[\u001b[0m\u001b[0mi\u001b[0m\u001b[0;34m-\u001b[0m\u001b[0;36m1\u001b[0m\u001b[0;34m]\u001b[0m\u001b[0;34m]\u001b[0m \u001b[0;34m=\u001b[0m \u001b[0;34m{\u001b[0m\u001b[0mb\u001b[0m\u001b[0;34m[\u001b[0m\u001b[0mi\u001b[0m\u001b[0;34m]\u001b[0m \u001b[0;34m:\u001b[0m \u001b[0mb\u001b[0m\u001b[0;34m[\u001b[0m\u001b[0mi\u001b[0m\u001b[0;34m+\u001b[0m\u001b[0;36m1\u001b[0m\u001b[0;34m]\u001b[0m\u001b[0;34m}\u001b[0m\u001b[0;34m\u001b[0m\u001b[0m\n\u001b[0m\u001b[1;32m     15\u001b[0m         \u001b[0;32mprint\u001b[0m\u001b[0;34m(\u001b[0m\u001b[0mc\u001b[0m\u001b[0;34m)\u001b[0m\u001b[0;34m\u001b[0m\u001b[0m\n",
        "\u001b[0;31mIndexError\u001b[0m: list index out of range"
       ]
      }
     ],
     "prompt_number": 20
    },
    {
     "cell_type": "code",
     "collapsed": false,
     "input": [
      "print(c)"
     ],
     "language": "python",
     "metadata": {},
     "outputs": [
      {
       "output_type": "stream",
       "stream": "stdout",
       "text": [
        "{0: {'bb': 'cc'}, 'aa': {'bb': 'cc'}, 'bb': {'cc': '6'}, 1: {'cc': '6'}, 'cc': '6', '6': {'aa': 'bb'}, -1: {'aa': 'bb'}}\n"
       ]
      }
     ],
     "prompt_number": 19
    },
    {
     "cell_type": "code",
     "collapsed": false,
     "input": [],
     "language": "python",
     "metadata": {},
     "outputs": []
    }
   ],
   "metadata": {}
  }
 ]
}